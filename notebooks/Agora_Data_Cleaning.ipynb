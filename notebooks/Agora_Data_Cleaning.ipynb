{
 "cells": [
  {
   "cell_type": "markdown",
   "metadata": {},
   "source": [
    "# Data Cleaning"
   ]
  },
  {
   "cell_type": "code",
   "execution_count": 1,
   "metadata": {
    "ExecuteTime": {
     "end_time": "2020-01-12T19:12:06.356294Z",
     "start_time": "2020-01-12T19:12:05.739004Z"
    }
   },
   "outputs": [
    {
     "data": {
      "text/html": [
       "<div>\n",
       "<style scoped>\n",
       "    .dataframe tbody tr th:only-of-type {\n",
       "        vertical-align: middle;\n",
       "    }\n",
       "\n",
       "    .dataframe tbody tr th {\n",
       "        vertical-align: top;\n",
       "    }\n",
       "\n",
       "    .dataframe thead th {\n",
       "        text-align: right;\n",
       "    }\n",
       "</style>\n",
       "<table border=\"1\" class=\"dataframe\">\n",
       "  <thead>\n",
       "    <tr style=\"text-align: right;\">\n",
       "      <th></th>\n",
       "      <th>Vendor</th>\n",
       "      <th>Category</th>\n",
       "      <th>Item</th>\n",
       "      <th>Item Description</th>\n",
       "      <th>Price</th>\n",
       "      <th>Origin</th>\n",
       "      <th>Destination</th>\n",
       "      <th>Rating</th>\n",
       "      <th>Remarks</th>\n",
       "    </tr>\n",
       "  </thead>\n",
       "  <tbody>\n",
       "    <tr>\n",
       "      <th>0</th>\n",
       "      <td>CheapPayTV</td>\n",
       "      <td>Services/Hacking</td>\n",
       "      <td>12 Month HuluPlus gift Code</td>\n",
       "      <td>12-Month HuluPlus Codes for $25. They are wort...</td>\n",
       "      <td>0.05027025666666667 BTC</td>\n",
       "      <td>Torland</td>\n",
       "      <td>NaN</td>\n",
       "      <td>4.96/5</td>\n",
       "      <td>NaN</td>\n",
       "    </tr>\n",
       "    <tr>\n",
       "      <th>1</th>\n",
       "      <td>CheapPayTV</td>\n",
       "      <td>Services/Hacking</td>\n",
       "      <td>Pay TV Sky UK  Sky Germany HD TV  and much mor...</td>\n",
       "      <td>Hi we offer a World Wide CCcam  Service for En...</td>\n",
       "      <td>0.152419585 BTC</td>\n",
       "      <td>Torland</td>\n",
       "      <td>NaN</td>\n",
       "      <td>4.96/5</td>\n",
       "      <td>NaN</td>\n",
       "    </tr>\n",
       "    <tr>\n",
       "      <th>2</th>\n",
       "      <td>KryptykOG</td>\n",
       "      <td>Services/Hacking</td>\n",
       "      <td>OFFICIAL Account Creator Extreme 4.2</td>\n",
       "      <td>Tagged Submission Fix Bebo Submission Fix Adju...</td>\n",
       "      <td>0.007000000000000005 BTC</td>\n",
       "      <td>Torland</td>\n",
       "      <td>NaN</td>\n",
       "      <td>4.93/5</td>\n",
       "      <td>NaN</td>\n",
       "    </tr>\n",
       "    <tr>\n",
       "      <th>3</th>\n",
       "      <td>cyberzen</td>\n",
       "      <td>Services/Hacking</td>\n",
       "      <td>VPN &gt; TOR &gt; SOCK TUTORIAL</td>\n",
       "      <td>How to setup a VPN &gt; TOR &gt; SOCK super safe enc...</td>\n",
       "      <td>0.019016783532494728 BTC</td>\n",
       "      <td>NaN</td>\n",
       "      <td>NaN</td>\n",
       "      <td>4.89/5</td>\n",
       "      <td>NaN</td>\n",
       "    </tr>\n",
       "    <tr>\n",
       "      <th>4</th>\n",
       "      <td>businessdude</td>\n",
       "      <td>Services/Hacking</td>\n",
       "      <td>Facebook hacking guide</td>\n",
       "      <td>.  This guide will teach you how to hack Faceb...</td>\n",
       "      <td>0.062018073963963936 BTC</td>\n",
       "      <td>Torland</td>\n",
       "      <td>NaN</td>\n",
       "      <td>4.88/5</td>\n",
       "      <td>NaN</td>\n",
       "    </tr>\n",
       "  </tbody>\n",
       "</table>\n",
       "</div>"
      ],
      "text/plain": [
       "         Vendor          Category  \\\n",
       "0    CheapPayTV  Services/Hacking   \n",
       "1    CheapPayTV  Services/Hacking   \n",
       "2     KryptykOG  Services/Hacking   \n",
       "3      cyberzen  Services/Hacking   \n",
       "4  businessdude  Services/Hacking   \n",
       "\n",
       "                                                Item  \\\n",
       "0                        12 Month HuluPlus gift Code   \n",
       "1  Pay TV Sky UK  Sky Germany HD TV  and much mor...   \n",
       "2               OFFICIAL Account Creator Extreme 4.2   \n",
       "3                          VPN > TOR > SOCK TUTORIAL   \n",
       "4                             Facebook hacking guide   \n",
       "\n",
       "                                    Item Description  \\\n",
       "0  12-Month HuluPlus Codes for $25. They are wort...   \n",
       "1  Hi we offer a World Wide CCcam  Service for En...   \n",
       "2  Tagged Submission Fix Bebo Submission Fix Adju...   \n",
       "3  How to setup a VPN > TOR > SOCK super safe enc...   \n",
       "4  .  This guide will teach you how to hack Faceb...   \n",
       "\n",
       "                      Price   Origin  Destination  Rating  Remarks  \n",
       "0   0.05027025666666667 BTC  Torland          NaN  4.96/5      NaN  \n",
       "1           0.152419585 BTC  Torland          NaN  4.96/5      NaN  \n",
       "2  0.007000000000000005 BTC  Torland          NaN  4.93/5      NaN  \n",
       "3  0.019016783532494728 BTC      NaN          NaN  4.89/5      NaN  \n",
       "4  0.062018073963963936 BTC  Torland          NaN  4.88/5      NaN  "
      ]
     },
     "execution_count": 1,
     "metadata": {},
     "output_type": "execute_result"
    }
   ],
   "source": [
    "import pandas as pd\n",
    "import numpy as np\n",
    "import warnings\n",
    "warnings.filterwarnings('ignore')\n",
    "\n",
    "df = pd.read_csv(\"darkweb/data/agora.csv\")\n",
    "df.head()"
   ]
  },
  {
   "cell_type": "markdown",
   "metadata": {},
   "source": [
    "As shown in the data epxloration, there are multiple records that are corrupted, probably due to a parsing error. These need to be removed from the dataset in order to clean the dataset. These are four specific records that need to be removed."
   ]
  },
  {
   "cell_type": "code",
   "execution_count": 2,
   "metadata": {
    "ExecuteTime": {
     "end_time": "2020-01-12T19:12:06.359832Z",
     "start_time": "2020-01-12T19:12:06.357389Z"
    }
   },
   "outputs": [
    {
     "data": {
      "text/plain": [
       "109590"
      ]
     },
     "execution_count": 2,
     "metadata": {},
     "output_type": "execute_result"
    }
   ],
   "source": [
    "len(df)"
   ]
  },
  {
   "cell_type": "code",
   "execution_count": 3,
   "metadata": {
    "ExecuteTime": {
     "end_time": "2020-01-12T19:12:06.550124Z",
     "start_time": "2020-01-12T19:12:06.360739Z"
    }
   },
   "outputs": [],
   "source": [
    "df = df[~df[' Category'].str.contains('Body Bags  shotty')]\n",
    "df = df[~df[' Category'].str.contains('BTC')]\n",
    "data = (df[' Category'] + df[' Item'] + df[' Item Description'])"
   ]
  },
  {
   "cell_type": "code",
   "execution_count": 4,
   "metadata": {
    "ExecuteTime": {
     "end_time": "2020-01-12T19:12:06.554677Z",
     "start_time": "2020-01-12T19:12:06.551278Z"
    }
   },
   "outputs": [
    {
     "data": {
      "text/plain": [
       "0    Services/Hacking12 Month HuluPlus gift Code12-...\n",
       "1    Services/HackingPay TV Sky UK  Sky Germany HD ...\n",
       "2    Services/HackingOFFICIAL Account Creator Extre...\n",
       "3    Services/HackingVPN > TOR > SOCK TUTORIALHow t...\n",
       "4    Services/HackingFacebook hacking guide.  This ...\n",
       "dtype: object"
      ]
     },
     "execution_count": 4,
     "metadata": {},
     "output_type": "execute_result"
    }
   ],
   "source": [
    "data.head()"
   ]
  },
  {
   "cell_type": "code",
   "execution_count": 5,
   "metadata": {
    "ExecuteTime": {
     "end_time": "2020-01-12T19:12:06.564399Z",
     "start_time": "2020-01-12T19:12:06.555508Z"
    }
   },
   "outputs": [
    {
     "data": {
      "text/plain": [
       "109586"
      ]
     },
     "execution_count": 5,
     "metadata": {},
     "output_type": "execute_result"
    }
   ],
   "source": [
    "len(data)"
   ]
  }
 ],
 "metadata": {
  "kernelspec": {
   "display_name": "Python 3",
   "language": "python",
   "name": "python3"
  },
  "language_info": {
   "codemirror_mode": {
    "name": "ipython",
    "version": 3
   },
   "file_extension": ".py",
   "mimetype": "text/x-python",
   "name": "python",
   "nbconvert_exporter": "python",
   "pygments_lexer": "ipython3",
   "version": "3.6.8"
  }
 },
 "nbformat": 4,
 "nbformat_minor": 2
}
