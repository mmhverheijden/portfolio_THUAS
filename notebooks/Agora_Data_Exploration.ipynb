{
 "cells": [
  {
   "cell_type": "markdown",
   "metadata": {},
   "source": [
    "# Agora Data Exploration\n",
    "This notebook will give a brief overview of what the Agora dataset, publicly available via [Kaggle](https://www.kaggle.com/philipjames11/dark-net-marketplace-drug-data-agora-20142015), looks like. This is a scraped dataset about the Agora marketplace, which can be found on the dark web in order to purchase various illegal goods and services.\n",
    "\n",
    "Afterwards, there will be an in-depth view and analyzation in the following chapters."
   ]
  },
  {
   "cell_type": "code",
   "execution_count": 1,
   "metadata": {
    "ExecuteTime": {
     "end_time": "2019-12-31T13:27:59.583299Z",
     "start_time": "2019-12-31T13:27:58.631579Z"
    },
    "scrolled": true
   },
   "outputs": [
    {
     "data": {
      "text/html": [
       "<div>\n",
       "<style scoped>\n",
       "    .dataframe tbody tr th:only-of-type {\n",
       "        vertical-align: middle;\n",
       "    }\n",
       "\n",
       "    .dataframe tbody tr th {\n",
       "        vertical-align: top;\n",
       "    }\n",
       "\n",
       "    .dataframe thead th {\n",
       "        text-align: right;\n",
       "    }\n",
       "</style>\n",
       "<table border=\"1\" class=\"dataframe\">\n",
       "  <thead>\n",
       "    <tr style=\"text-align: right;\">\n",
       "      <th></th>\n",
       "      <th>Vendor</th>\n",
       "      <th>Category</th>\n",
       "      <th>Item</th>\n",
       "      <th>Item Description</th>\n",
       "      <th>Price</th>\n",
       "      <th>Origin</th>\n",
       "      <th>Destination</th>\n",
       "      <th>Rating</th>\n",
       "      <th>Remarks</th>\n",
       "    </tr>\n",
       "  </thead>\n",
       "  <tbody>\n",
       "    <tr>\n",
       "      <th>0</th>\n",
       "      <td>CheapPayTV</td>\n",
       "      <td>Services/Hacking</td>\n",
       "      <td>12 Month HuluPlus gift Code</td>\n",
       "      <td>12-Month HuluPlus Codes for $25. They are wort...</td>\n",
       "      <td>0.05027025666666667 BTC</td>\n",
       "      <td>Torland</td>\n",
       "      <td>NaN</td>\n",
       "      <td>4.96/5</td>\n",
       "      <td>NaN</td>\n",
       "    </tr>\n",
       "    <tr>\n",
       "      <th>1</th>\n",
       "      <td>CheapPayTV</td>\n",
       "      <td>Services/Hacking</td>\n",
       "      <td>Pay TV Sky UK  Sky Germany HD TV  and much mor...</td>\n",
       "      <td>Hi we offer a World Wide CCcam  Service for En...</td>\n",
       "      <td>0.152419585 BTC</td>\n",
       "      <td>Torland</td>\n",
       "      <td>NaN</td>\n",
       "      <td>4.96/5</td>\n",
       "      <td>NaN</td>\n",
       "    </tr>\n",
       "    <tr>\n",
       "      <th>2</th>\n",
       "      <td>KryptykOG</td>\n",
       "      <td>Services/Hacking</td>\n",
       "      <td>OFFICIAL Account Creator Extreme 4.2</td>\n",
       "      <td>Tagged Submission Fix Bebo Submission Fix Adju...</td>\n",
       "      <td>0.007000000000000005 BTC</td>\n",
       "      <td>Torland</td>\n",
       "      <td>NaN</td>\n",
       "      <td>4.93/5</td>\n",
       "      <td>NaN</td>\n",
       "    </tr>\n",
       "    <tr>\n",
       "      <th>3</th>\n",
       "      <td>cyberzen</td>\n",
       "      <td>Services/Hacking</td>\n",
       "      <td>VPN &gt; TOR &gt; SOCK TUTORIAL</td>\n",
       "      <td>How to setup a VPN &gt; TOR &gt; SOCK super safe enc...</td>\n",
       "      <td>0.019016783532494728 BTC</td>\n",
       "      <td>NaN</td>\n",
       "      <td>NaN</td>\n",
       "      <td>4.89/5</td>\n",
       "      <td>NaN</td>\n",
       "    </tr>\n",
       "    <tr>\n",
       "      <th>4</th>\n",
       "      <td>businessdude</td>\n",
       "      <td>Services/Hacking</td>\n",
       "      <td>Facebook hacking guide</td>\n",
       "      <td>.  This guide will teach you how to hack Faceb...</td>\n",
       "      <td>0.062018073963963936 BTC</td>\n",
       "      <td>Torland</td>\n",
       "      <td>NaN</td>\n",
       "      <td>4.88/5</td>\n",
       "      <td>NaN</td>\n",
       "    </tr>\n",
       "  </tbody>\n",
       "</table>\n",
       "</div>"
      ],
      "text/plain": [
       "         Vendor          Category  \\\n",
       "0    CheapPayTV  Services/Hacking   \n",
       "1    CheapPayTV  Services/Hacking   \n",
       "2     KryptykOG  Services/Hacking   \n",
       "3      cyberzen  Services/Hacking   \n",
       "4  businessdude  Services/Hacking   \n",
       "\n",
       "                                                Item  \\\n",
       "0                        12 Month HuluPlus gift Code   \n",
       "1  Pay TV Sky UK  Sky Germany HD TV  and much mor...   \n",
       "2               OFFICIAL Account Creator Extreme 4.2   \n",
       "3                          VPN > TOR > SOCK TUTORIAL   \n",
       "4                             Facebook hacking guide   \n",
       "\n",
       "                                    Item Description  \\\n",
       "0  12-Month HuluPlus Codes for $25. They are wort...   \n",
       "1  Hi we offer a World Wide CCcam  Service for En...   \n",
       "2  Tagged Submission Fix Bebo Submission Fix Adju...   \n",
       "3  How to setup a VPN > TOR > SOCK super safe enc...   \n",
       "4  .  This guide will teach you how to hack Faceb...   \n",
       "\n",
       "                      Price   Origin  Destination  Rating  Remarks  \n",
       "0   0.05027025666666667 BTC  Torland          NaN  4.96/5      NaN  \n",
       "1           0.152419585 BTC  Torland          NaN  4.96/5      NaN  \n",
       "2  0.007000000000000005 BTC  Torland          NaN  4.93/5      NaN  \n",
       "3  0.019016783532494728 BTC      NaN          NaN  4.89/5      NaN  \n",
       "4  0.062018073963963936 BTC  Torland          NaN  4.88/5      NaN  "
      ]
     },
     "execution_count": 1,
     "metadata": {},
     "output_type": "execute_result"
    }
   ],
   "source": [
    "import pandas as pd\n",
    "import matplotlib as plt\n",
    "\n",
    "df = pd.read_csv(\"darkweb/data/agora.csv\")\n",
    "df.head()"
   ]
  },
  {
   "cell_type": "markdown",
   "metadata": {},
   "source": [
    "As shown, the raw dataset contains multiple columns, consisting of \n",
    " - Vendor, meaning the seller of the good/service\n",
    " - Category, consisting of up to three levels (main, subcategory and subsubcategory)\n",
    " - Item\n",
    " - Item Description\n",
    " - Price\n",
    " - Origin\n",
    " - Destination\n",
    " - Rating\n",
    " - Remarks"
   ]
  },
  {
   "cell_type": "code",
   "execution_count": 2,
   "metadata": {
    "ExecuteTime": {
     "end_time": "2019-12-31T13:28:00.633015Z",
     "start_time": "2019-12-31T13:28:00.630055Z"
    },
    "scrolled": true
   },
   "outputs": [
    {
     "data": {
      "text/plain": [
       "109590"
      ]
     },
     "execution_count": 2,
     "metadata": {},
     "output_type": "execute_result"
    }
   ],
   "source": [
    "len(df)"
   ]
  },
  {
   "cell_type": "markdown",
   "metadata": {},
   "source": [
    "## General overview\n",
    "This chapter will give a general overview of what the dataset looks like, for example how many records it contains, but also what categories, etc."
   ]
  },
  {
   "cell_type": "markdown",
   "metadata": {},
   "source": [
    "### Searching for outliars\n",
    "Not all data will be clean upon retrieval, so this needs to be cleaned aswell. First, the dataset needs to be searched for any incompletions and/or inconsistensies."
   ]
  },
  {
   "cell_type": "code",
   "execution_count": 3,
   "metadata": {
    "ExecuteTime": {
     "end_time": "2019-12-31T13:28:02.358976Z",
     "start_time": "2019-12-31T13:28:02.347870Z"
    }
   },
   "outputs": [
    {
     "data": {
      "text/plain": [
       "Drugs/Cannabis/Weed                                                         21270\n",
       "Drugs/Ecstasy/Pills                                                          7532\n",
       "Drugs/Ecstasy/MDMA                                                           6116\n",
       "Drugs/Stimulants/Cocaine                                                     6007\n",
       "Drugs/Prescription                                                           5561\n",
       "                                                                            ...  \n",
       "Drugs/Dissociatives/PCP                                                         4\n",
       "the Body Bags  shotty  and Mac make-up To: Kind Hearts and Gentle People        1\n",
       "0.12780125125 BTC                                                               1\n",
       "the Body Bags  shotty  and mag To: Kind Hearts and Gentle People                1\n",
       "home of the Body Bags  shotty  and mag  Kind Hearts and Gentle People           1\n",
       "Name:  Category, Length: 108, dtype: int64"
      ]
     },
     "execution_count": 3,
     "metadata": {},
     "output_type": "execute_result"
    }
   ],
   "source": [
    "df[' Category'].value_counts()"
   ]
  },
  {
   "cell_type": "markdown",
   "metadata": {},
   "source": [
    "As shown above, something went wrong during the parsing of the dataset because the last four categories, containing the 'Body Bags shotty' text, are actually Items or Item Descriptions."
   ]
  },
  {
   "cell_type": "code",
   "execution_count": 5,
   "metadata": {
    "ExecuteTime": {
     "end_time": "2019-12-31T13:35:42.822572Z",
     "start_time": "2019-12-31T13:35:42.776739Z"
    }
   },
   "outputs": [
    {
     "data": {
      "text/plain": [
       "29                                          Services/Other\n",
       "124                                              Drugs/RCs\n",
       "741                           Forgeries/Physical documents\n",
       "838                                         Tobacco/Smoked\n",
       "1027                                        Services/Money\n",
       "1337                                    Counterfeits/Money\n",
       "1389                                         Data/Software\n",
       "1467                                         Data/Accounts\n",
       "1601                                 Counterfeits/Clothing\n",
       "1795                                    Information/eBooks\n",
       "2277                                           Electronics\n",
       "2360                              Drug paraphernalia/Pipes\n",
       "2409                                     Drugs/Weight loss\n",
       "2473                                          Data/Pirated\n",
       "2547                                        Drugs/Steroids\n",
       "3104                                    Drugs/Prescription\n",
       "4161                                    Information/Guides\n",
       "4749                                Forgeries/Scans/Photos\n",
       "4872                                                 Other\n",
       "4923                                               Jewelry\n",
       "5052                                           Drugs/Other\n",
       "5184                              Counterfeits/Accessories\n",
       "5248                                  Counterfeits/Watches\n",
       "5567                                   Drugs/Cannabis/Weed\n",
       "8318                                          Drugs/Benzos\n",
       "8941     the Body Bags  shotty  and Mac make-up To: Kin...\n",
       "9338                             Drugs/Cannabis/Shake/trim\n",
       "9373                             Drugs/Cannabis/Synthetics\n",
       "9544                           Drugs/Cannabis/Concentrates\n",
       "10135                                 Drugs/Cannabis/Seeds\n",
       "10239                                  Drugs/Cannabis/Hash\n",
       "10918                              Drugs/Dissociatives/MXE\n",
       "10976                         Drugs/Dissociatives/Ketamine\n",
       "11776                               Drugs/Cannabis/Edibles\n",
       "12534                                  Drugs/Ecstasy/Pills\n",
       "12907                                  Drugs/Ecstasy/Other\n",
       "14176                                Drugs/Stimulants/Meth\n",
       "14425                               Drugs/Psychedelics/LSD\n",
       "14795                               Drugs/Stimulants/Speed\n",
       "15275                              Drugs/Dissociatives/GHB\n",
       "15571                             Drugs/Stimulants/Cocaine\n",
       "15961                                Drugs/Psychedelics/NB\n",
       "16425                         Drugs/Psychedelics/Mushrooms\n",
       "16509                                   Drugs/Ecstasy/MDMA\n",
       "16929                               Drugs/Psychedelics/DMT\n",
       "17054                              Weapons/Lethal firearms\n",
       "17135                        Drugs/Stimulants/Prescription\n",
       "17469                                    Drugs/Ecstasy/MDA\n",
       "17529                            Drugs/Psychedelics/Others\n",
       "17872                         Drugs/Psychedelics/Mescaline\n",
       "17905                                Drugs/Psychedelics/2C\n",
       "18055                                        Drugs/Opioids\n",
       "21145                                Info/eBooks/Anonymity\n",
       "21228                        Info/eBooks/Relationships/Sex\n",
       "21254                           Drug paraphernalia/Stashes\n",
       "21381                                  Info/eBooks/Economy\n",
       "21615                                 Services/Advertising\n",
       "22670                                 Info/eBooks/Politics\n",
       "23093                               Drugs/Opioids/Morphine\n",
       "Name:  Category, dtype: object"
      ]
     },
     "execution_count": 5,
     "metadata": {},
     "output_type": "execute_result"
    }
   ],
   "source": [
    "df.dropna(axis = 0, how = 'any', thresh = None, subset = None, inplace = False)\n",
    "cat = df.drop_duplicates(subset =' Category', keep = 'first')\n",
    "cat[' Category'][1:60]"
   ]
  },
  {
   "cell_type": "code",
   "execution_count": 6,
   "metadata": {
    "ExecuteTime": {
     "end_time": "2019-11-28T23:54:32.014580Z",
     "start_time": "2019-11-28T23:54:32.008133Z"
    }
   },
   "outputs": [
    {
     "data": {
      "text/plain": [
       "108"
      ]
     },
     "execution_count": 6,
     "metadata": {},
     "output_type": "execute_result"
    }
   ],
   "source": [
    "df[' Category'].nunique() #number of unique values"
   ]
  },
  {
   "cell_type": "code",
   "execution_count": 9,
   "metadata": {
    "ExecuteTime": {
     "end_time": "2019-11-28T23:54:39.733765Z",
     "start_time": "2019-11-28T23:54:38.739289Z"
    }
   },
   "outputs": [
    {
     "data": {
      "text/plain": [
       "<matplotlib.axes._subplots.AxesSubplot at 0x7fa7b4a148d0>"
      ]
     },
     "execution_count": 9,
     "metadata": {},
     "output_type": "execute_result"
    },
    {
     "data": {
      "image/png": "[encoded data removed]",
      "text/plain": [
       "<Figure size 432x288 with 1 Axes>"
      ]
     },
     "metadata": {
      "needs_background": "light"
     },
     "output_type": "display_data"
    }
   ],
   "source": [
    "df[' Category'].value_counts().plot(kind='barh')"
   ]
  },
  {
   "cell_type": "markdown",
   "metadata": {},
   "source": [
    "### Remarks column\n",
    "As shown below, it is not needed to take any other column into account for the learning process, since the only valuable variables are 'item' and 'item description'. Looking at the remarks column in order to check for any additional information, it shows that the only extra information that will be provided is \n",
    "\n",
    "'average price may be skewed'.\n",
    "\n",
    "This is also what is stated on Kaggle about the data description, but I wanted to be sure about what the unique values are in this whole column. Looking at the other records that are showed, it shows that some columns are wrongfully written down, like record 56230, where there are two item descriptions, so that the BTC price will be noted down in de 'origin' column.\n"
   ]
  },
  {
   "cell_type": "code",
   "execution_count": 8,
   "metadata": {
    "ExecuteTime": {
     "end_time": "2019-11-28T23:54:32.480180Z",
     "start_time": "2019-11-28T23:54:32.433963Z"
    },
    "code_folding": []
   },
   "outputs": [
    {
     "data": {
      "text/html": [
       "<div>\n",
       "<style scoped>\n",
       "    .dataframe tbody tr th:only-of-type {\n",
       "        vertical-align: middle;\n",
       "    }\n",
       "\n",
       "    .dataframe tbody tr th {\n",
       "        vertical-align: top;\n",
       "    }\n",
       "\n",
       "    .dataframe thead th {\n",
       "        text-align: right;\n",
       "    }\n",
       "</style>\n",
       "<table border=\"1\" class=\"dataframe\">\n",
       "  <thead>\n",
       "    <tr style=\"text-align: right;\">\n",
       "      <th></th>\n",
       "      <th>Vendor</th>\n",
       "      <th>Category</th>\n",
       "      <th>Item</th>\n",
       "      <th>Item Description</th>\n",
       "      <th>Price</th>\n",
       "      <th>Origin</th>\n",
       "      <th>Destination</th>\n",
       "      <th>Rating</th>\n",
       "      <th>Remarks</th>\n",
       "    </tr>\n",
       "  </thead>\n",
       "  <tbody>\n",
       "    <tr>\n",
       "      <th>0</th>\n",
       "      <td>CheapPayTV</td>\n",
       "      <td>Services/Hacking</td>\n",
       "      <td>12 Month HuluPlus gift Code</td>\n",
       "      <td>12-Month HuluPlus Codes for $25. They are wort...</td>\n",
       "      <td>0.05027025666666667 BTC</td>\n",
       "      <td>Torland</td>\n",
       "      <td>NaN</td>\n",
       "      <td>4.96/5</td>\n",
       "      <td>NaN</td>\n",
       "    </tr>\n",
       "    <tr>\n",
       "      <th>29</th>\n",
       "      <td>livinglarge</td>\n",
       "      <td>Services/Other</td>\n",
       "      <td>custom 2nd hotel+flight</td>\n",
       "      <td>penthouse suite las vegas + 5 roundtrips</td>\n",
       "      <td>6.895965219913043 BTC</td>\n",
       "      <td>NaN</td>\n",
       "      <td>NaN</td>\n",
       "      <td>5.00/5</td>\n",
       "      <td>Average price may be skewed outliar &gt; .5 BTC f...</td>\n",
       "    </tr>\n",
       "    <tr>\n",
       "      <th>56230</th>\n",
       "      <td>snapback</td>\n",
       "      <td>Drugs/Cannabis/Weed</td>\n",
       "      <td>50g Durban Poison - 100% Sativa</td>\n",
       "      <td>This subtropical sativa is named after the Sou...</td>\n",
       "      <td>5g \"Skywalker\"  Indica-dominant hybrid (Bluebe...</td>\n",
       "      <td>0.1564969883333333 BTC</td>\n",
       "      <td>Germany</td>\n",
       "      <td>Worldwide</td>\n",
       "      <td>4.91/5</td>\n",
       "    </tr>\n",
       "    <tr>\n",
       "      <th>56490</th>\n",
       "      <td>snapback</td>\n",
       "      <td>Drugs/Cannabis/Weed</td>\n",
       "      <td>10g Durban Poison - 100% Sativa</td>\n",
       "      <td>This subtropical sativa is named after the Sou...</td>\n",
       "      <td>*****\"Planning a FUN weekend? Now offering...U...</td>\n",
       "      <td>1.80935569 BTC</td>\n",
       "      <td>USA</td>\n",
       "      <td>USA</td>\n",
       "      <td>4.90/5</td>\n",
       "    </tr>\n",
       "    <tr>\n",
       "      <th>58889</th>\n",
       "      <td>PerfectScans</td>\n",
       "      <td>Forgeries/Scans/Photos</td>\n",
       "      <td>Anon Bank 120K PA Cash Out/Load Set Up</td>\n",
       "      <td>This Listing Is For Verified And Established V...</td>\n",
       "      <td>16 grams PURE  UNCUT Morphine HCL Powder  no n...</td>\n",
       "      <td>1.1951948575000004 BTC</td>\n",
       "      <td>USA</td>\n",
       "      <td>NaN</td>\n",
       "      <td>4.41/5</td>\n",
       "    </tr>\n",
       "    <tr>\n",
       "      <th>106933</th>\n",
       "      <td>Petch</td>\n",
       "      <td>Drugs/Cannabis/Weed</td>\n",
       "      <td>Super Iced Grapefruit 3.5G</td>\n",
       "      <td>This potent sativa was developed by crossing C...</td>\n",
       "      <td>Reggie is what ppl call mexican weed in my are...</td>\n",
       "      <td>0.06149737 BTC</td>\n",
       "      <td>USA</td>\n",
       "      <td>NaN</td>\n",
       "      <td>[0 deals]</td>\n",
       "    </tr>\n",
       "  </tbody>\n",
       "</table>\n",
       "</div>"
      ],
      "text/plain": [
       "              Vendor                Category  \\\n",
       "0         CheapPayTV        Services/Hacking   \n",
       "29       livinglarge          Services/Other   \n",
       "56230       snapback     Drugs/Cannabis/Weed   \n",
       "56490       snapback     Drugs/Cannabis/Weed   \n",
       "58889   PerfectScans  Forgeries/Scans/Photos   \n",
       "106933         Petch     Drugs/Cannabis/Weed   \n",
       "\n",
       "                                          Item  \\\n",
       "0                  12 Month HuluPlus gift Code   \n",
       "29                     custom 2nd hotel+flight   \n",
       "56230          50g Durban Poison - 100% Sativa   \n",
       "56490          10g Durban Poison - 100% Sativa   \n",
       "58889   Anon Bank 120K PA Cash Out/Load Set Up   \n",
       "106933              Super Iced Grapefruit 3.5G   \n",
       "\n",
       "                                         Item Description  \\\n",
       "0       12-Month HuluPlus Codes for $25. They are wort...   \n",
       "29               penthouse suite las vegas + 5 roundtrips   \n",
       "56230   This subtropical sativa is named after the Sou...   \n",
       "56490   This subtropical sativa is named after the Sou...   \n",
       "58889   This Listing Is For Verified And Established V...   \n",
       "106933  This potent sativa was developed by crossing C...   \n",
       "\n",
       "                                                    Price  \\\n",
       "0                                 0.05027025666666667 BTC   \n",
       "29                                  6.895965219913043 BTC   \n",
       "56230   5g \"Skywalker\"  Indica-dominant hybrid (Bluebe...   \n",
       "56490   *****\"Planning a FUN weekend? Now offering...U...   \n",
       "58889   16 grams PURE  UNCUT Morphine HCL Powder  no n...   \n",
       "106933  Reggie is what ppl call mexican weed in my are...   \n",
       "\n",
       "                        Origin  Destination     Rating  \\\n",
       "0                      Torland          NaN     4.96/5   \n",
       "29                         NaN          NaN     5.00/5   \n",
       "56230   0.1564969883333333 BTC      Germany  Worldwide   \n",
       "56490           1.80935569 BTC          USA        USA   \n",
       "58889   1.1951948575000004 BTC          USA        NaN   \n",
       "106933          0.06149737 BTC          USA        NaN   \n",
       "\n",
       "                                                  Remarks  \n",
       "0                                                     NaN  \n",
       "29      Average price may be skewed outliar > .5 BTC f...  \n",
       "56230                                              4.91/5  \n",
       "56490                                              4.90/5  \n",
       "58889                                              4.41/5  \n",
       "106933                                          [0 deals]  "
      ]
     },
     "execution_count": 8,
     "metadata": {},
     "output_type": "execute_result"
    }
   ],
   "source": [
    "df.dropna(axis = 0, how = 'any', thresh = None, subset = None, inplace = False)\n",
    "remarks = df.drop_duplicates(subset =' Remarks', keep = 'first')\n",
    "remarks"
   ]
  }
 ],
 "metadata": {
  "kernelspec": {
   "display_name": "Python 3",
   "language": "python",
   "name": "python3"
  },
  "language_info": {
   "codemirror_mode": {
    "name": "ipython",
    "version": 3
   },
   "file_extension": ".py",
   "mimetype": "text/x-python",
   "name": "python",
   "nbconvert_exporter": "python",
   "pygments_lexer": "ipython3",
   "version": "3.6.8"
  },
  "toc": {
   "base_numbering": 1,
   "nav_menu": {},
   "number_sections": true,
   "sideBar": true,
   "skip_h1_title": false,
   "title_cell": "Table of Contents",
   "title_sidebar": "Contents",
   "toc_cell": false,
   "toc_position": {},
   "toc_section_display": true,
   "toc_window_display": false
  }
 },
 "nbformat": 4,
 "nbformat_minor": 2
}
