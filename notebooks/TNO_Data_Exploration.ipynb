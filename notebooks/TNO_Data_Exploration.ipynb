{
 "cells": [
  {
   "cell_type": "markdown",
   "metadata": {},
   "source": [
    "# Data Exploration\n",
    "This notebook will be used to cover the data exploration of the real dataset provided by TNO and host Web-IQ. The data is gathered using a preprocess script written by Dennis van Gilst and is executed (on-site) by our product owner Dion Oosterman. The script returns vectors and categories, in the pickle format (.pkl), for the project group to work with."
   ]
  },
  {
   "cell_type": "markdown",
   "metadata": {},
   "source": [
    "## Categories"
   ]
  },
  {
   "cell_type": "code",
   "execution_count": 1,
   "metadata": {
    "ExecuteTime": {
     "end_time": "2020-01-12T17:56:57.477518Z",
     "start_time": "2020-01-12T17:56:57.101813Z"
    }
   },
   "outputs": [
    {
     "data": {
      "text/plain": [
       "11589"
      ]
     },
     "execution_count": 1,
     "metadata": {},
     "output_type": "execute_result"
    }
   ],
   "source": [
    "import pickle\n",
    "import pandas as pd\n",
    "import numpy as np\n",
    "import matplotlib.pyplot as plt\n",
    "import warnings\n",
    "warnings.filterwarnings('ignore')\n",
    "\n",
    "categories = pickle.load(open(\"darkweb/data/pickle_bu/categorieen.pkl\", \"rb\"))\n",
    "len(categories)"
   ]
  },
  {
   "cell_type": "code",
   "execution_count": 2,
   "metadata": {
    "ExecuteTime": {
     "end_time": "2020-01-12T17:56:57.482221Z",
     "start_time": "2020-01-12T17:56:57.478728Z"
    }
   },
   "outputs": [],
   "source": [
    "df = pd.DataFrame(categories)\n",
    "df.columns = ['Category']\n",
    "# df['Category'].value_counts()"
   ]
  },
  {
   "cell_type": "markdown",
   "metadata": {},
   "source": [
    "### Visualization"
   ]
  },
  {
   "cell_type": "code",
   "execution_count": 3,
   "metadata": {
    "ExecuteTime": {
     "end_time": "2020-01-12T17:56:57.491036Z",
     "start_time": "2020-01-12T17:56:57.483433Z"
    }
   },
   "outputs": [],
   "source": [
    "# freq = df['Category'].value_counts()\n",
    "# labels = df['Category'].unique().tolist()\n",
    "\n",
    "# plt.title('Categories within Web-IQ Dataset')\n",
    "# plt.ylabel('Category')\n",
    "# plt.xlabel('Amount')\n",
    "# df['Category'].value_counts(ascending = True).plot(kind='barh', color=\"purple\")"
   ]
  },
  {
   "cell_type": "code",
   "execution_count": 4,
   "metadata": {
    "ExecuteTime": {
     "end_time": "2020-01-12T17:56:57.499924Z",
     "start_time": "2020-01-12T17:56:57.492139Z"
    }
   },
   "outputs": [],
   "source": [
    "# values = df['Category'].value_counts() \n",
    "# labels = ['Drugs & Chemicals','Counterfeits','Digital Goods','Fraud','Guides & Tutorials','Weapons','Services',\n",
    "#           'Other','Software & Malware','Jewelry & Gold','Carded Items','Security & Hosting']\n",
    "# plt.pie(values, labels = labels ,autopct='%.1f%%')\n",
    "# plt.title('Pie chart for main category distribution within WebIQ dataset')\n",
    "# # plt.show()"
   ]
  },
  {
   "cell_type": "code",
   "execution_count": 5,
   "metadata": {
    "ExecuteTime": {
     "end_time": "2020-01-12T17:56:57.509280Z",
     "start_time": "2020-01-12T17:56:57.500946Z"
    }
   },
   "outputs": [],
   "source": [
    "# x = np.char.array(labels)\n",
    "# y = np.array(values)\n",
    "# percent = 100.*y/y.sum()\n",
    "\n",
    "# patches, texts = plt.pie(y, startangle=90, radius=1.2)\n",
    "# labels = ['{0} - {1:1.2f} %'.format(i,j) for i,j in zip(x, percent)]\n",
    "\n",
    "# sort_legend = True\n",
    "# if sort_legend:\n",
    "#     patches, labels, dummy =  zip(*sorted(zip(patches, labels, y),key=lambda x: x[2],reverse=True))\n",
    "    \n",
    "# plt.legend(patches, labels, loc='left center', bbox_to_anchor=(-0.1, 1.),\n",
    "#            fontsize=8)\n",
    "# plt.title('Pie chart for main category distribution within Agora dataset')\n",
    "# plt.show()"
   ]
  },
  {
   "cell_type": "markdown",
   "metadata": {
    "ExecuteTime": {
     "end_time": "2019-11-29T00:10:11.049246Z",
     "start_time": "2019-11-29T00:10:11.046348Z"
    }
   },
   "source": [
    "# Vectors\n",
    "The methods below are my own experimentation with the usage and implementation of vectorization methods. This is still very plain and just to visualize what the contents of the files are."
   ]
  },
  {
   "cell_type": "markdown",
   "metadata": {},
   "source": [
    "## Doc2vec"
   ]
  },
  {
   "cell_type": "code",
   "execution_count": 6,
   "metadata": {
    "ExecuteTime": {
     "end_time": "2020-01-12T17:56:57.615124Z",
     "start_time": "2020-01-12T17:56:57.510427Z"
    }
   },
   "outputs": [],
   "source": [
    "dvector1 = pickle.load(open(\"darkweb/data/pickle_bu/d2v_vectors_prep1.pkl\", \"rb\"))\n",
    "dvector2 = pickle.load(open(\"darkweb/data/pickle_bu/d2v_vectors_prep2.pkl\", \"rb\"))\n",
    "d = {'Category':categories, 'Vectors1':dvector1, 'Vectors2':dvector2}\n",
    "d2vdf = pd.DataFrame(data=d)\n",
    "# d2vdf.head()"
   ]
  },
  {
   "cell_type": "markdown",
   "metadata": {},
   "source": [
    "## Fasttext"
   ]
  },
  {
   "cell_type": "code",
   "execution_count": 7,
   "metadata": {
    "ExecuteTime": {
     "end_time": "2020-01-12T17:57:06.125284Z",
     "start_time": "2020-01-12T17:56:57.616221Z"
    }
   },
   "outputs": [],
   "source": [
    "fvector1 = pickle.load(open(\"darkweb/data/pickle_bu/ft_vectors_prep1.pkl\", \"rb\"))\n",
    "fvector2 = pickle.load(open(\"darkweb/data/pickle_bu/ft_vectors_prep2.pkl\", \"rb\"))\n",
    "d = {'Category':categories, 'Vectors1':fvector1, 'Vectors2':fvector2}\n",
    "fdf = pd.DataFrame(data=d)\n",
    "# fdf.head()"
   ]
  },
  {
   "cell_type": "markdown",
   "metadata": {},
   "source": [
    "## TF-IDF"
   ]
  },
  {
   "cell_type": "code",
   "execution_count": 8,
   "metadata": {
    "ExecuteTime": {
     "end_time": "2020-01-12T17:57:06.347352Z",
     "start_time": "2020-01-12T17:57:06.126861Z"
    }
   },
   "outputs": [],
   "source": [
    "tfvector = pickle.load(open(\"darkweb/data/pickle_bu/tfidf_vectors.pkl\", \"rb\"))\n",
    "d = {'Category':categories, 'Vectors':tfvector}\n",
    "tfdf = pd.DataFrame(data=d)\n",
    "# tfdf.head()"
   ]
  }
 ],
 "metadata": {
  "kernelspec": {
   "display_name": "Python 3",
   "language": "python",
   "name": "python3"
  },
  "language_info": {
   "codemirror_mode": {
    "name": "ipython",
    "version": 3
   },
   "file_extension": ".py",
   "mimetype": "text/x-python",
   "name": "python",
   "nbconvert_exporter": "python",
   "pygments_lexer": "ipython3",
   "version": "3.6.8"
  },
  "toc": {
   "base_numbering": 1,
   "nav_menu": {},
   "number_sections": true,
   "sideBar": true,
   "skip_h1_title": false,
   "title_cell": "Table of Contents",
   "title_sidebar": "Contents",
   "toc_cell": false,
   "toc_position": {},
   "toc_section_display": true,
   "toc_window_display": false
  }
 },
 "nbformat": 4,
 "nbformat_minor": 2
}
