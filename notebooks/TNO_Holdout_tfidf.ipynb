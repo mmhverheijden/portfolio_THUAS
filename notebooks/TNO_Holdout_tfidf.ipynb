{
 "cells": [
  {
   "cell_type": "markdown",
   "metadata": {},
   "source": [
    "# imports"
   ]
  },
  {
   "cell_type": "code",
   "execution_count": 2,
   "metadata": {
    "ExecuteTime": {
     "end_time": "2020-01-12T18:36:32.538016Z",
     "start_time": "2020-01-12T18:36:32.484812Z"
    }
   },
   "outputs": [],
   "source": [
    "import pickle\n",
    "import matplotlib.pyplot as plt\n",
    "import graphviz \n",
    "from sklearn import model_selection, naive_bayes, svm, tree\n",
    "from sklearn.model_selection import train_test_split\n",
    "from sklearn.ensemble import RandomForestClassifier\n",
    "from sklearn.metrics import accuracy_score, f1_score, recall_score, classification_report\n",
    "from sklearn.neighbors import KNeighborsClassifier\n",
    "from sklearn.linear_model import SGDClassifier, LogisticRegression\n",
    "from sklearn.cluster import KMeans\n",
    "from sklearn.tree import export_graphviz\n",
    "from sklearn.feature_extraction.text import CountVectorizer, TfidfVectorizer\n",
    "from sklearn.manifold import TSNE\n",
    "import warnings\n",
    "warnings.filterwarnings('ignore')\n",
    "\n",
    "categories = pickle.load(open(\"darkweb/data/pickle_bu/categorieen.pkl\", \"rb\"))\n",
    "tfvector = pickle.load(open(\"darkweb/data/pickle_bu/tfidf_vectors.pkl\", \"rb\"))"
   ]
  },
  {
   "cell_type": "markdown",
   "metadata": {
    "ExecuteTime": {
     "end_time": "2019-12-02T14:16:47.150834Z",
     "start_time": "2019-12-02T14:16:47.097120Z"
    }
   },
   "source": [
    "# TFIDF\n",
    "**##note to self\n",
    "in order to predict later on, the text in the predict function needs to be vectorized using tfidf ofcourse**"
   ]
  },
  {
   "cell_type": "code",
   "execution_count": 3,
   "metadata": {
    "ExecuteTime": {
     "end_time": "2020-01-12T18:36:34.971320Z",
     "start_time": "2020-01-12T18:36:34.967589Z"
    }
   },
   "outputs": [
    {
     "data": {
      "text/plain": [
       "(11589, <11589x359989 sparse matrix of type '<class 'numpy.float64'>'\n",
       " \twith 3081091 stored elements in Compressed Sparse Row format>)"
      ]
     },
     "execution_count": 3,
     "metadata": {},
     "output_type": "execute_result"
    }
   ],
   "source": [
    "len(categories), tfvector"
   ]
  },
  {
   "cell_type": "code",
   "execution_count": 4,
   "metadata": {
    "ExecuteTime": {
     "end_time": "2020-01-12T18:36:36.975022Z",
     "start_time": "2020-01-12T18:36:36.950445Z"
    }
   },
   "outputs": [],
   "source": [
    "labels = categories\n",
    "features = tfvector\n",
    "random = 42\n",
    "X_train, X_test, y_train, y_test = train_test_split(features, labels, test_size=0.33, random_state=random)"
   ]
  },
  {
   "cell_type": "markdown",
   "metadata": {
    "ExecuteTime": {
     "end_time": "2019-12-03T10:32:52.105741Z",
     "start_time": "2019-12-03T10:32:52.083792Z"
    }
   },
   "source": [
    "## SVM (linear SVC)"
   ]
  },
  {
   "cell_type": "code",
   "execution_count": 5,
   "metadata": {
    "ExecuteTime": {
     "end_time": "2020-01-12T18:36:41.008379Z",
     "start_time": "2020-01-12T18:36:38.141210Z"
    }
   },
   "outputs": [
    {
     "name": "stdout",
     "output_type": "stream",
     "text": [
      "SVM Accuracy Score:  0.8426143790849673\n",
      "SVM Recall Score:  0.8426143790849673\n",
      "SVM F1 Score:  0.8634566895491402\n"
     ]
    }
   ],
   "source": [
    "SVM = svm.LinearSVC()\n",
    "SVM.fit(X_train, y_train)\n",
    "predictions_SVM = SVM.predict(X_test)\n",
    "print(\"SVM Accuracy Score: \", accuracy_score(predictions_SVM, y_test))\n",
    "print(\"SVM Recall Score: \", recall_score(predictions_SVM, y_test, average='weighted'))\n",
    "print(\"SVM F1 Score: \", f1_score(predictions_SVM, y_test, average='weighted'))"
   ]
  },
  {
   "cell_type": "markdown",
   "metadata": {
    "ExecuteTime": {
     "end_time": "2019-12-03T10:30:32.360823Z",
     "start_time": "2019-12-03T10:30:32.317160Z"
    }
   },
   "source": [
    "## multinomial naive bayes"
   ]
  },
  {
   "cell_type": "code",
   "execution_count": 6,
   "metadata": {
    "ExecuteTime": {
     "end_time": "2020-01-12T18:36:43.015305Z",
     "start_time": "2020-01-12T18:36:42.780497Z"
    }
   },
   "outputs": [
    {
     "name": "stdout",
     "output_type": "stream",
     "text": [
      "Multinomial NB Accuracy Score:  0.709281045751634\n",
      "Multinomial NB Recall Score:  0.709281045751634\n",
      "Multinomial NB F1 Score:  0.7835957838983414\n"
     ]
    }
   ],
   "source": [
    "naive = naive_bayes.MultinomialNB()\n",
    "naive.fit(X_train, y_train)\n",
    "predictions_NB = naive.predict(X_test)\n",
    "print(\"Multinomial NB Accuracy Score: \", accuracy_score(predictions_NB, y_test))\n",
    "print(\"Multinomial NB Recall Score: \", recall_score(predictions_NB, y_test, average='weighted'))\n",
    "print(\"Multinomial NB F1 Score: \", f1_score(predictions_NB, y_test, average='weighted'))"
   ]
  },
  {
   "cell_type": "markdown",
   "metadata": {},
   "source": [
    "## Gaussian naive bayes"
   ]
  },
  {
   "cell_type": "code",
   "execution_count": 7,
   "metadata": {
    "ExecuteTime": {
     "end_time": "2020-01-12T18:40:49.672414Z",
     "start_time": "2020-01-12T18:36:45.099447Z"
    }
   },
   "outputs": [
    {
     "name": "stdout",
     "output_type": "stream",
     "text": [
      "Gaussian NB Accuracy Score:  0.8143790849673203\n",
      "Gaussian NB Recall Score:  0.8143790849673203\n",
      "Gaussian NB F1 Score:  0.8125811229192027\n"
     ]
    }
   ],
   "source": [
    "naive = naive_bayes.GaussianNB()\n",
    "naive.fit(X_train.todense(), y_train)\n",
    "predictions_NB = naive.predict(X_test.todense())\n",
    "print(\"Gaussian NB Accuracy Score: \", accuracy_score(predictions_NB, y_test))\n",
    "print(\"Gaussian NB Recall Score: \", recall_score(predictions_NB, y_test, average='weighted'))\n",
    "print(\"Gaussian NB F1 Score: \", f1_score(predictions_NB, y_test, average='weighted'))"
   ]
  },
  {
   "cell_type": "markdown",
   "metadata": {},
   "source": [
    "## Bernoulli NB (same results as multinomial)"
   ]
  },
  {
   "cell_type": "code",
   "execution_count": 11,
   "metadata": {
    "ExecuteTime": {
     "end_time": "2020-01-12T18:46:52.782274Z",
     "start_time": "2020-01-12T18:43:24.926507Z"
    }
   },
   "outputs": [
    {
     "name": "stdout",
     "output_type": "stream",
     "text": [
      "Bernoulli NB Accuracy Score:  0.8143790849673203\n",
      "Bernoulli NB Recall Score:  0.8143790849673203\n",
      "Bernoulli NB F1 Score:  0.8125811229192027\n"
     ]
    }
   ],
   "source": [
    "bernoulli = naive_bayes.BernoulliNB()\n",
    "bernoulli.fit(X_train.toarray(), y_train)\n",
    "predictions_B = naive.predict(X_test.toarray())\n",
    "print(\"Bernoulli NB Accuracy Score: \", accuracy_score(predictions_B, y_test))\n",
    "print(\"Bernoulli NB Recall Score: \", recall_score(predictions_B, y_test, average='weighted'))\n",
    "print(\"Bernoulli NB F1 Score: \", f1_score(predictions_B, y_test, average='weighted'))"
   ]
  },
  {
   "cell_type": "markdown",
   "metadata": {},
   "source": [
    "## Random forest"
   ]
  },
  {
   "cell_type": "code",
   "execution_count": 12,
   "metadata": {
    "ExecuteTime": {
     "end_time": "2020-01-12T18:48:02.375402Z",
     "start_time": "2020-01-12T18:47:36.785380Z"
    }
   },
   "outputs": [],
   "source": [
    "# Limit max depth\n",
    "rforest = RandomForestClassifier(max_depth = 3, n_estimators=10, random_state=random)\n",
    "rforest.fit(X_train, y_train)\n",
    "estimator_limited = rforest.estimators_[5]\n",
    "\n",
    "# No max depth\n",
    "rforest = RandomForestClassifier(max_depth = None, n_estimators=10, random_state=random)\n",
    "rforest.fit(X_train, y_train)\n",
    "estimator_nonlimited = rforest.estimators_[5]"
   ]
  },
  {
   "cell_type": "code",
   "execution_count": 13,
   "metadata": {
    "ExecuteTime": {
     "end_time": "2020-01-12T18:48:10.068628Z",
     "start_time": "2020-01-12T18:48:10.065986Z"
    }
   },
   "outputs": [],
   "source": [
    "# export_graphviz(estimator_limited, out_file='tree_limited.dot', feature_names = features,\n",
    "#                 class_names = labels,\n",
    "#                 rounded = True, proportion = False, precision = 2, filled = True)\n",
    "\n",
    "# export_graphviz(estimator_nonlimited, out_file='tree_nonlimited.dot', feature_names = features,\n",
    "#                 class_names = labels,\n",
    "#                 rounded = True, proportion = False, precision = 2, filled = True)"
   ]
  },
  {
   "cell_type": "code",
   "execution_count": 14,
   "metadata": {
    "ExecuteTime": {
     "end_time": "2020-01-12T18:48:13.511330Z",
     "start_time": "2020-01-12T18:48:10.567468Z"
    }
   },
   "outputs": [
    {
     "name": "stdout",
     "output_type": "stream",
     "text": [
      "RF Accuracy Score:  0.6515032679738562\n",
      "RF Recall Score:  0.6515032679738562\n",
      "RF F1 Score:  0.737896270507299\n"
     ]
    }
   ],
   "source": [
    "rf = RandomForestClassifier(max_depth=10, random_state=random)\n",
    "rf.fit(X_train,y_train)\n",
    "predictions_RF = rf.predict(X_test)\n",
    "print(\"RF Accuracy Score: \", accuracy_score(predictions_RF, y_test))\n",
    "print(\"RF Recall Score: \", recall_score(predictions_RF, y_test, average='weighted'))\n",
    "print(\"RF F1 Score: \", f1_score(predictions_RF, y_test, average='weighted'))"
   ]
  },
  {
   "cell_type": "markdown",
   "metadata": {
    "ExecuteTime": {
     "end_time": "2019-12-03T12:20:31.608571Z",
     "start_time": "2019-12-03T12:20:31.580348Z"
    }
   },
   "source": [
    "## decision tree"
   ]
  },
  {
   "cell_type": "code",
   "execution_count": 15,
   "metadata": {
    "ExecuteTime": {
     "end_time": "2020-01-12T18:48:16.797170Z",
     "start_time": "2020-01-12T18:48:16.794171Z"
    }
   },
   "outputs": [],
   "source": [
    "# def unique(categories): \n",
    "#     unique_list = [] \n",
    "#     for x in categories:  \n",
    "#         if x not in unique_list: \n",
    "#             unique_list.append(x) "
   ]
  },
  {
   "cell_type": "code",
   "execution_count": 16,
   "metadata": {
    "ExecuteTime": {
     "end_time": "2020-01-12T18:48:19.185627Z",
     "start_time": "2020-01-12T18:48:17.368959Z"
    }
   },
   "outputs": [
    {
     "name": "stdout",
     "output_type": "stream",
     "text": [
      "Decision Tree Accuracy Score:  0.6368627450980392\n",
      "Decision Tree Recall Score:  0.6368627450980392\n",
      "Decision Tree F1 Score:  0.7530245119326625\n"
     ]
    }
   ],
   "source": [
    "class_tree = tree.DecisionTreeClassifier(max_depth=3)\n",
    "class_tree.fit(X_train, y_train)\n",
    "predictions_DT = class_tree.predict(X_test)\n",
    "print(\"Decision Tree Accuracy Score: \", accuracy_score(predictions_DT, y_test))\n",
    "print(\"Decision Tree Recall Score: \", recall_score(predictions_DT, y_test, average='weighted'))\n",
    "print(\"Decision Tree F1 Score: \", f1_score(predictions_DT, y_test, average='weighted'))"
   ]
  },
  {
   "cell_type": "code",
   "execution_count": 18,
   "metadata": {
    "ExecuteTime": {
     "end_time": "2020-01-12T18:48:35.708648Z",
     "start_time": "2020-01-12T18:48:35.705979Z"
    }
   },
   "outputs": [],
   "source": [
    "# from sklearn.decomposition.truncated_svd import TruncatedSVD \n",
    "\n",
    "# pca = TruncatedSVD(n_components=2)\n",
    "# X_reduced_train = pca.fit_transform(features)\n",
    "\n",
    "# dot_data = tree.export_graphviz(class_tree, out_file=None, feature_names=X_train, class_names = y_train,  \n",
    "#                      filled=True, rounded=True, special_characters=True)  \n",
    "# graph = graphviz.Source(dot_data)  \n",
    "# graph.render(\"Decision_tree_viz\")"
   ]
  },
  {
   "cell_type": "markdown",
   "metadata": {},
   "source": [
    "## SGD"
   ]
  },
  {
   "cell_type": "code",
   "execution_count": 19,
   "metadata": {
    "ExecuteTime": {
     "end_time": "2020-01-12T18:48:39.566227Z",
     "start_time": "2020-01-12T18:48:37.512369Z"
    }
   },
   "outputs": [
    {
     "name": "stdout",
     "output_type": "stream",
     "text": [
      "SGD Accuracy Score:  0.8342483660130718\n",
      "SGD Recall Score:  0.8342483660130718\n",
      "SGD F1 Score:  0.8294909921789023\n"
     ]
    }
   ],
   "source": [
    "sgd = SGDClassifier(loss='hinge', penalty='l2', alpha=1e-5, max_iter=1000, tol=1e-3, class_weight=\"balanced\")\n",
    "sgd = sgd.fit(X_train, y_train)\n",
    "predictions_SGD = sgd.predict(X_test)\n",
    "print(\"SGD Accuracy Score: \", accuracy_score(predictions_SGD, y_test))\n",
    "print(\"SGD Recall Score: \", recall_score(predictions_SGD, y_test, average='weighted'))\n",
    "print(\"SGD F1 Score: \", f1_score(predictions_SGD, y_test, average='weighted'))"
   ]
  },
  {
   "cell_type": "code",
   "execution_count": 20,
   "metadata": {
    "ExecuteTime": {
     "end_time": "2020-01-12T18:48:40.440020Z",
     "start_time": "2020-01-12T18:48:40.438213Z"
    }
   },
   "outputs": [],
   "source": [
    "# fit = TSNE()\n",
    "# u = fit.fit_transform(X_train.todense())"
   ]
  },
  {
   "cell_type": "markdown",
   "metadata": {
    "ExecuteTime": {
     "end_time": "2019-12-05T09:20:38.162376Z",
     "start_time": "2019-12-05T09:20:38.138636Z"
    }
   },
   "source": [
    "## KNN"
   ]
  },
  {
   "cell_type": "code",
   "execution_count": 21,
   "metadata": {
    "ExecuteTime": {
     "end_time": "2020-01-12T18:48:45.376754Z",
     "start_time": "2020-01-12T18:48:43.148278Z"
    }
   },
   "outputs": [
    {
     "name": "stdout",
     "output_type": "stream",
     "text": [
      "KNN Accuracy Score:  0.8366013071895425\n",
      "KNN Recall Score:  0.8366013071895425\n",
      "KNN F1 Score:  0.8519283854876076\n"
     ]
    }
   ],
   "source": [
    "knn = KNeighborsClassifier()\n",
    "knn.fit(X_train, y_train)\n",
    "predictions_KNN = knn.predict(X_test)\n",
    "print(\"KNN Accuracy Score: \", accuracy_score(predictions_KNN, y_test))\n",
    "print(\"KNN Recall Score: \", recall_score(predictions_KNN, y_test, average='weighted'))\n",
    "print(\"KNN F1 Score: \", f1_score(predictions_KNN, y_test, average='weighted'))"
   ]
  },
  {
   "cell_type": "markdown",
   "metadata": {},
   "source": [
    "## Logistic Regression"
   ]
  },
  {
   "cell_type": "code",
   "execution_count": 22,
   "metadata": {
    "ExecuteTime": {
     "end_time": "2020-01-12T18:48:54.588529Z",
     "start_time": "2020-01-12T18:48:46.794958Z"
    }
   },
   "outputs": [
    {
     "name": "stdout",
     "output_type": "stream",
     "text": [
      "LR Accuracy Score:  0.781437908496732\n",
      "LR Recall Score:  0.781437908496732\n",
      "LR F1 Score:  0.8260280735567747\n"
     ]
    }
   ],
   "source": [
    "lr = LogisticRegression(random_state=random)\n",
    "lr.fit(X_train,y_train)\n",
    "predictions_LR = lr.predict(X_test)\n",
    "print(\"LR Accuracy Score: \", accuracy_score(predictions_LR, y_test))\n",
    "print(\"LR Recall Score: \", recall_score(predictions_LR, y_test, average='weighted'))\n",
    "print(\"LR F1 Score: \", f1_score(predictions_LR, y_test, average='weighted'))"
   ]
  },
  {
   "cell_type": "markdown",
   "metadata": {},
   "source": [
    "## kmeans"
   ]
  },
  {
   "cell_type": "code",
   "execution_count": 23,
   "metadata": {
    "ExecuteTime": {
     "end_time": "2020-01-12T18:49:54.677475Z",
     "start_time": "2020-01-12T18:48:56.081184Z"
    }
   },
   "outputs": [],
   "source": [
    "true_k = 12\n",
    "kmeans = KMeans(n_clusters=true_k, init='k-means++', max_iter=100, n_init=1).fit(X_train)"
   ]
  }
 ],
 "metadata": {
  "kernelspec": {
   "display_name": "Python 3",
   "language": "python",
   "name": "python3"
  },
  "language_info": {
   "codemirror_mode": {
    "name": "ipython",
    "version": 3
   },
   "file_extension": ".py",
   "mimetype": "text/x-python",
   "name": "python",
   "nbconvert_exporter": "python",
   "pygments_lexer": "ipython3",
   "version": "3.6.8"
  },
  "toc": {
   "base_numbering": 1,
   "nav_menu": {},
   "number_sections": true,
   "sideBar": true,
   "skip_h1_title": false,
   "title_cell": "Table of Contents",
   "title_sidebar": "Contents",
   "toc_cell": false,
   "toc_position": {
    "height": "calc(100% - 180px)",
    "left": "10px",
    "top": "150px",
    "width": "320px"
   },
   "toc_section_display": true,
   "toc_window_display": false
  }
 },
 "nbformat": 4,
 "nbformat_minor": 2
}
