{
 "cells": [
  {
   "cell_type": "markdown",
   "metadata": {},
   "source": [
    "# K-fold cross validation\n",
    "n = 11589, means k = 5"
   ]
  },
  {
   "cell_type": "code",
   "execution_count": 1,
   "metadata": {
    "ExecuteTime": {
     "end_time": "2019-12-19T12:56:38.805349Z",
     "start_time": "2019-12-19T12:56:38.119475Z"
    }
   },
   "outputs": [],
   "source": [
    "import pickle\n",
    "import numpy as np\n",
    "import pandas as pd\n",
    "from sklearn import model_selection, naive_bayes, svm, tree\n",
    "from sklearn.ensemble import RandomForestClassifier\n",
    "from sklearn.metrics import accuracy_score, f1_score, recall_score, classification_report\n",
    "from sklearn.model_selection import train_test_split, RepeatedKFold, StratifiedKFold\n",
    "from sklearn.cluster import KMeans\n",
    "from sklearn.tree import export_graphviz\n",
    "from sklearn.linear_model import SGDClassifier, LogisticRegression\n",
    "from sklearn.neighbors import KNeighborsClassifier\n",
    "from sklearn.feature_extraction.text import CountVectorizer, TfidfVectorizer\n",
    "import warnings\n",
    "warnings.filterwarnings('ignore')\n",
    "\n",
    "categories = pickle.load(open(\"darkweb/data/pekelbad/categorieen.pkl\", \"rb\"))\n",
    "tfvector = pickle.load(open(\"darkweb/data/pickle/tfidf_vectors.pkl\", \"rb\"))\n",
    "\n",
    "df = pd.DataFrame({\"Category\":categories})\n",
    "df[\"CategoryID\"] = df.Category.astype(\"category\").cat.codes"
   ]
  },
  {
   "cell_type": "code",
   "execution_count": 2,
   "metadata": {
    "ExecuteTime": {
     "end_time": "2019-12-19T12:56:39.753430Z",
     "start_time": "2019-12-19T12:56:39.749276Z"
    }
   },
   "outputs": [],
   "source": [
    "X = tfvector\n",
    "y = np.array(df['CategoryID'].tolist())\n",
    "random = 42\n",
    "#X_train, X_test, y_train, y_test = train_test_split(features, labels, test_size=0.33, random_state=random)"
   ]
  },
  {
   "cell_type": "markdown",
   "metadata": {},
   "source": [
    "## Stratified k-fold\n",
    "Stratification is the process of rearranging the data so as to ensure that each fold is a good representative of the whole. For example, in a binary classification problem where each class comprises of 50% of the data, it is best to arrange the data such that in every fold, each class comprises of about half the instances."
   ]
  },
  {
   "cell_type": "code",
   "execution_count": 3,
   "metadata": {
    "ExecuteTime": {
     "end_time": "2019-12-19T12:56:42.015112Z",
     "start_time": "2019-12-19T12:56:41.894269Z"
    }
   },
   "outputs": [],
   "source": [
    "skf = StratifiedKFold(n_splits=10, random_state=random)\n",
    "skf.get_n_splits(X, y)\n",
    "for train_index, test_index in skf.split(X, y):\n",
    "    #print(\"TRAIN:\", train_index, \"TEST:\", test_index)\n",
    "    X_train, X_test = X[train_index], X[test_index]\n",
    "    y_train, y_test = y[train_index], y[test_index]"
   ]
  },
  {
   "cell_type": "code",
   "execution_count": 4,
   "metadata": {
    "ExecuteTime": {
     "end_time": "2019-12-19T12:56:42.797726Z",
     "start_time": "2019-12-19T12:56:42.790565Z"
    }
   },
   "outputs": [
    {
     "data": {
      "text/plain": [
       "<10437x359989 sparse matrix of type '<class 'numpy.float64'>'\n",
       "\twith 2767770 stored elements in Compressed Sparse Row format>"
      ]
     },
     "execution_count": 4,
     "metadata": {},
     "output_type": "execute_result"
    }
   ],
   "source": [
    "X_train"
   ]
  },
  {
   "cell_type": "markdown",
   "metadata": {},
   "source": [
    "### Linear SVC"
   ]
  },
  {
   "cell_type": "code",
   "execution_count": 5,
   "metadata": {
    "ExecuteTime": {
     "end_time": "2019-12-19T12:56:48.664111Z",
     "start_time": "2019-12-19T12:56:44.708047Z"
    }
   },
   "outputs": [
    {
     "name": "stdout",
     "output_type": "stream",
     "text": [
      "SVM Accuracy Score:  0.8524305555555556\n",
      "SVM Recall Score:  0.8524305555555556\n",
      "SVM F1 Score:  0.8670946288577871\n"
     ]
    }
   ],
   "source": [
    "SVM = svm.LinearSVC()\n",
    "SVM.fit(X_train, y_train)\n",
    "predictions_SVM = SVM.predict(X_test)\n",
    "print(\"SVM Accuracy Score: \", accuracy_score(predictions_SVM, y_test))\n",
    "print(\"SVM Recall Score: \", recall_score(predictions_SVM, y_test, average='weighted'))\n",
    "print(\"SVM F1 Score: \", f1_score(predictions_SVM, y_test, average='weighted'))"
   ]
  },
  {
   "cell_type": "markdown",
   "metadata": {
    "ExecuteTime": {
     "end_time": "2019-12-06T13:11:32.427688Z",
     "start_time": "2019-12-06T13:11:32.313877Z"
    }
   },
   "source": [
    "### Multinomial NB"
   ]
  },
  {
   "cell_type": "code",
   "execution_count": 6,
   "metadata": {
    "ExecuteTime": {
     "end_time": "2019-12-19T12:56:51.910782Z",
     "start_time": "2019-12-19T12:56:51.698511Z"
    }
   },
   "outputs": [
    {
     "name": "stdout",
     "output_type": "stream",
     "text": [
      "Multinomial NB Accuracy Score:  0.7300347222222222\n",
      "Multinomial NB Recall Score:  0.7300347222222222\n",
      "Multinomial NB F1 Score:  0.7931126542363844\n"
     ]
    }
   ],
   "source": [
    "naive = naive_bayes.MultinomialNB()\n",
    "naive.fit(X_train, y_train)\n",
    "predictions_NB = naive.predict(X_test)\n",
    "print(\"Multinomial NB Accuracy Score: \", accuracy_score(predictions_NB, y_test))\n",
    "print(\"Multinomial NB Recall Score: \", recall_score(predictions_NB, y_test, average='weighted'))\n",
    "print(\"Multinomial NB F1 Score: \", f1_score(predictions_NB, y_test, average='weighted'))"
   ]
  },
  {
   "cell_type": "markdown",
   "metadata": {
    "ExecuteTime": {
     "end_time": "2019-12-06T13:14:36.709858Z",
     "start_time": "2019-12-06T13:14:36.516353Z"
    }
   },
   "source": [
    "### Gaussian NB"
   ]
  },
  {
   "cell_type": "code",
   "execution_count": null,
   "metadata": {
    "ExecuteTime": {
     "start_time": "2019-12-19T12:56:55.009Z"
    }
   },
   "outputs": [],
   "source": [
    "naive = naive_bayes.GaussianNB()\n",
    "naive.fit(X_train.todense(), y_train)\n",
    "predictions_NB = naive.predict(X_test.todense())\n",
    "print(\"Gaussian NB Accuracy Score: \", accuracy_score(predictions_NB, y_test))\n",
    "print(\"Gaussian NB Recall Score: \", recall_score(predictions_NB, y_test, average='weighted'))\n",
    "print(\"Gaussian NB F1 Score: \", f1_score(predictions_NB, y_test, average='weighted'))"
   ]
  },
  {
   "cell_type": "markdown",
   "metadata": {},
   "source": [
    "### Decision tree"
   ]
  },
  {
   "cell_type": "code",
   "execution_count": 10,
   "metadata": {
    "ExecuteTime": {
     "end_time": "2019-12-09T09:14:56.461625Z",
     "start_time": "2019-12-09T09:14:53.714395Z"
    }
   },
   "outputs": [
    {
     "name": "stdout",
     "output_type": "stream",
     "text": [
      "Decision Tree Accuracy Score:  0.6458333333333334\n",
      "Decision Tree Recall Score:  0.6458333333333334\n",
      "Decision Tree F1 Score:  0.7603772279927702\n"
     ]
    }
   ],
   "source": [
    "class_tree = tree.DecisionTreeClassifier(max_depth=3)\n",
    "class_tree.fit(X_train, y_train)\n",
    "predictions_DT = class_tree.predict(X_test)\n",
    "print(\"Decision Tree Accuracy Score: \", accuracy_score(predictions_DT, y_test))\n",
    "print(\"Decision Tree Recall Score: \", recall_score(predictions_DT, y_test, average='weighted'))\n",
    "print(\"Decision Tree F1 Score: \", f1_score(predictions_DT, y_test, average='weighted'))"
   ]
  },
  {
   "cell_type": "markdown",
   "metadata": {},
   "source": [
    "### SGD"
   ]
  },
  {
   "cell_type": "code",
   "execution_count": 11,
   "metadata": {
    "ExecuteTime": {
     "end_time": "2019-12-09T09:15:00.678853Z",
     "start_time": "2019-12-09T09:14:56.462970Z"
    }
   },
   "outputs": [
    {
     "name": "stdout",
     "output_type": "stream",
     "text": [
      "SGD Accuracy Score:  0.8315972222222222\n",
      "SGD Recall Score:  0.8315972222222222\n",
      "SGD F1 Score:  0.823359385189021\n"
     ]
    }
   ],
   "source": [
    "sgd = SGDClassifier(loss='hinge', penalty='l2', alpha=1e-5, max_iter=1000, tol=1e-3, class_weight=\"balanced\")\n",
    "sgd = sgd.fit(X_train, y_train)\n",
    "predictions_SGD = sgd.predict(X_test)\n",
    "print(\"SGD Accuracy Score: \", accuracy_score(predictions_SGD, y_test))\n",
    "print(\"SGD Recall Score: \", recall_score(predictions_SGD, y_test, average='weighted'))\n",
    "print(\"SGD F1 Score: \", f1_score(predictions_SGD, y_test, average='weighted'))"
   ]
  },
  {
   "cell_type": "markdown",
   "metadata": {},
   "source": [
    "### KNN"
   ]
  },
  {
   "cell_type": "code",
   "execution_count": 12,
   "metadata": {
    "ExecuteTime": {
     "end_time": "2019-12-09T09:15:01.713868Z",
     "start_time": "2019-12-09T09:15:00.680782Z"
    }
   },
   "outputs": [
    {
     "name": "stdout",
     "output_type": "stream",
     "text": [
      "KNN Accuracy Score:  0.8263888888888888\n",
      "KNN Recall Score:  0.8263888888888888\n",
      "KNN F1 Score:  0.8462218189517494\n"
     ]
    }
   ],
   "source": [
    "knn = KNeighborsClassifier(n_neighbors=12)\n",
    "knn.fit(X_train, y_train)\n",
    "predictions_KNN = knn.predict(X_test)\n",
    "print(\"KNN Accuracy Score: \", accuracy_score(predictions_KNN, y_test))\n",
    "print(\"KNN Recall Score: \", recall_score(predictions_KNN, y_test, average='weighted'))\n",
    "print(\"KNN F1 Score: \", f1_score(predictions_KNN, y_test, average='weighted'))"
   ]
  },
  {
   "cell_type": "markdown",
   "metadata": {},
   "source": [
    "### Logistic regression"
   ]
  },
  {
   "cell_type": "code",
   "execution_count": 16,
   "metadata": {
    "ExecuteTime": {
     "end_time": "2019-12-09T09:24:24.853194Z",
     "start_time": "2019-12-09T09:24:12.909013Z"
    }
   },
   "outputs": [
    {
     "name": "stdout",
     "output_type": "stream",
     "text": [
      "LR Accuracy Score:  0.8003472222222222\n",
      "LR Recall Score:  0.8003472222222222\n",
      "LR F1 Score:  0.832839441555754\n"
     ]
    }
   ],
   "source": [
    "lr = LogisticRegression(random_state=random)\n",
    "lr.fit(X_train,y_train)\n",
    "predictions_LR = lr.predict(X_test)\n",
    "print(\"LR Accuracy Score: \", accuracy_score(predictions_LR, y_test))\n",
    "print(\"LR Recall Score: \", recall_score(predictions_LR, y_test, average='weighted'))\n",
    "print(\"LR F1 Score: \", f1_score(predictions_LR, y_test, average='weighted'))"
   ]
  },
  {
   "cell_type": "markdown",
   "metadata": {},
   "source": [
    "### Random forest"
   ]
  },
  {
   "cell_type": "code",
   "execution_count": 17,
   "metadata": {
    "ExecuteTime": {
     "end_time": "2019-12-09T09:30:11.237613Z",
     "start_time": "2019-12-09T09:30:07.015664Z"
    }
   },
   "outputs": [
    {
     "name": "stdout",
     "output_type": "stream",
     "text": [
      "RF Accuracy Score:  0.6519097222222222\n",
      "RF Recall Score:  0.6519097222222222\n",
      "RF F1 Score:  0.7496451241732829\n"
     ]
    }
   ],
   "source": [
    "rf = RandomForestClassifier(max_depth=10, random_state=random)\n",
    "rf.fit(X_train,y_train)\n",
    "predictions_RF = rf.predict(X_test)\n",
    "print(\"RF Accuracy Score: \", accuracy_score(predictions_RF, y_test))\n",
    "print(\"RF Recall Score: \", recall_score(predictions_RF, y_test, average='weighted'))\n",
    "print(\"RF F1 Score: \", f1_score(predictions_RF, y_test, average='weighted'))"
   ]
  },
  {
   "cell_type": "code",
   "execution_count": 10,
   "metadata": {
    "ExecuteTime": {
     "end_time": "2019-12-08T17:43:24.649457Z",
     "start_time": "2019-12-08T17:43:24.646902Z"
    }
   },
   "outputs": [],
   "source": [
    "# scores = []\n",
    "# best_svr = SVR(kernel='rbf')\n",
    "# cv = KFold(n_splits=10, random_state=42, shuffle=False)\n",
    "# for train_index, test_index in cv.split(X):\n",
    "#     print(\"Train Index: \", train_index, \"\\n\")\n",
    "#     print(\"Test Index: \", test_index)\n",
    "\n",
    "#     X_train, X_test, y_train, y_test = X[train_index], X[test_index], y[train_index], y[test_index]\n",
    "#     best_svr.fit(X_train, y_train)\n",
    "#     scores.append(best_svr.score(X_test, y_test))"
   ]
  }
 ],
 "metadata": {
  "kernelspec": {
   "display_name": "Python 3",
   "language": "python",
   "name": "python3"
  },
  "language_info": {
   "codemirror_mode": {
    "name": "ipython",
    "version": 3
   },
   "file_extension": ".py",
   "mimetype": "text/x-python",
   "name": "python",
   "nbconvert_exporter": "python",
   "pygments_lexer": "ipython3",
   "version": "3.6.8"
  },
  "toc": {
   "base_numbering": 1,
   "nav_menu": {},
   "number_sections": true,
   "sideBar": true,
   "skip_h1_title": false,
   "title_cell": "Table of Contents",
   "title_sidebar": "Contents",
   "toc_cell": false,
   "toc_position": {},
   "toc_section_display": true,
   "toc_window_display": false
  }
 },
 "nbformat": 4,
 "nbformat_minor": 2
}
