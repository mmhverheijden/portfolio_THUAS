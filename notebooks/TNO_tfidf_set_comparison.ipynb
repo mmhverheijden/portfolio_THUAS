{
 "cells": [
  {
   "cell_type": "markdown",
   "metadata": {},
   "source": [
    "# Comparison of ways of separating data into test- and trainsets\n",
    "comparison of both \n",
    "- Hold-out, as in usage of sklearn's train_test_split\n",
    "- Cross Validation, as in usage of sklearn's StratifiedKFold\n",
    "\n",
    "\n",
    "https://medium.com/@eijaz/holdout-vs-cross-validation-in-machine-learning-7637112d3f8f"
   ]
  },
  {
   "cell_type": "code",
   "execution_count": 18,
   "metadata": {
    "ExecuteTime": {
     "end_time": "2019-12-12T11:17:33.838925Z",
     "start_time": "2019-12-12T11:17:33.783921Z"
    }
   },
   "outputs": [],
   "source": [
    "import pickle\n",
    "import numpy as np\n",
    "import pandas as pd\n",
    "import matplotlib.pyplot as plt\n",
    "import seaborn as sns\n",
    "\n",
    "from sklearn import model_selection, naive_bayes, svm, tree\n",
    "from sklearn.model_selection import train_test_split, StratifiedKFold\n",
    "from sklearn.ensemble import RandomForestClassifier\n",
    "from sklearn.metrics import accuracy_score, f1_score, recall_score, classification_report\n",
    "from sklearn.neighbors import KNeighborsClassifier\n",
    "from sklearn.linear_model import SGDClassifier, LogisticRegression\n",
    "from sklearn.cluster import KMeans\n",
    "from sklearn.tree import export_graphviz\n",
    "from sklearn.feature_extraction.text import CountVectorizer, TfidfVectorizer\n",
    "from sklearn.manifold import TSNE\n",
    "%matplotlib inline\n",
    "\n",
    "import warnings\n",
    "warnings.filterwarnings('ignore')\n",
    "\n",
    "categories = pickle.load(open(\"darkweb/data/pekelbad/categorieen.pkl\", \"rb\"))\n",
    "tfvector = pickle.load(open(\"darkweb/data/pickle/tfidf_vectors.pkl\", \"rb\"))\n",
    "random = 42 #hardcoded to maintain results\n",
    "\n",
    "df = pd.DataFrame({\"Category\":categories}) #for usage of Kfold\n",
    "df[\"CategoryID\"] = df.Category.astype(\"category\").cat.codes"
   ]
  },
  {
   "cell_type": "code",
   "execution_count": 2,
   "metadata": {
    "ExecuteTime": {
     "end_time": "2019-12-12T11:03:06.440563Z",
     "start_time": "2019-12-12T11:03:06.436243Z"
    }
   },
   "outputs": [],
   "source": [
    "transformers = [\n",
    "    ('Linear SVC', svm.LinearSVC()),\n",
    "    ('Multinomial Naive Bayes', naive_bayes.MultinomialNB()),\n",
    "    ('Gaussian Naive Bayes', naive_bayes.GaussianNB()),\n",
    "    ('Random Forest', RandomForestClassifier()),\n",
    "    ('Decision Tree', tree.DecisionTreeClassifier()),\n",
    "    ('SGD', SGDClassifier()),\n",
    "    ('KNeighbors', KNeighborsClassifier()),\n",
    "    ('Logistic Regression', LogisticRegression()),\n",
    "]"
   ]
  },
  {
   "cell_type": "markdown",
   "metadata": {},
   "source": [
    "## Training models using Hold-out method\n",
    "\n",
    "Hold-out is when you split up your dataset into a ‘train’ and ‘test’ set. The training set is what the model is trained on, and the test set is used to see how well that model performs on unseen data. A common split when using the hold-out method is using 80% of data for training and the remaining 20% of the data for testing."
   ]
  },
  {
   "cell_type": "code",
   "execution_count": 3,
   "metadata": {
    "ExecuteTime": {
     "end_time": "2019-12-12T11:06:54.268507Z",
     "start_time": "2019-12-12T11:03:12.132613Z"
    }
   },
   "outputs": [
    {
     "name": "stdout",
     "output_type": "stream",
     "text": [
      "learning Linear SVC...\n",
      "0.8634566895491402\n",
      "learning Multinomial Naive Bayes...\n",
      "0.7835957838983414\n",
      "learning Gaussian Naive Bayes...\n",
      "0.8125811229192027\n",
      "learning Random Forest...\n",
      "0.8472608947589737\n",
      "learning Decision Tree...\n",
      "0.8212947359197467\n",
      "learning SGD...\n",
      "0.8554475702855058\n",
      "learning KNeighbors...\n",
      "0.8519283854876076\n",
      "learning Logistic Regression...\n",
      "0.8260280735567747\n"
     ]
    }
   ],
   "source": [
    "results_HO = []\n",
    "for transformerName, transform in transformers:\n",
    "        print('learning ' + transformerName + '...')\n",
    "        try:\n",
    "            X_train, X_test, y_train, y_test = train_test_split(tfvector, categories, test_size=0.33, random_state=random)          \n",
    "            if transformerName == 'Gaussian Naive Bayes':\n",
    "                model = transform.fit(X_train.todense(), y_train)\n",
    "                y_pred = model.predict(X_test.todense())\n",
    "                results_HO.append(tuple([\n",
    "                    transformerName,\n",
    "                    accuracy_score(y_pred, y_test),\n",
    "                    recall_score(y_pred, y_test, average='weighted'),\n",
    "                    f1_score(y_pred, y_test, average='weighted')\n",
    "                ]))\n",
    "            else:\n",
    "                model = transform.fit(X_train, y_train)\n",
    "                y_pred = model.predict(X_test)\n",
    "                results_HO.append(tuple([\n",
    "                    transformerName,\n",
    "                    accuracy_score(y_pred, y_test),\n",
    "                    recall_score(y_pred, y_test, average='weighted'),\n",
    "                    f1_score(y_pred, y_test, average='weighted')\n",
    "                ]))\n",
    "            print(f1_score(y_pred, y_test, average='weighted'))\n",
    "        except:\n",
    "            print('FAILED')\n",
    "            results_HO.append(tuple([transformerName, 0, 0, 0]))"
   ]
  },
  {
   "cell_type": "code",
   "execution_count": 4,
   "metadata": {
    "ExecuteTime": {
     "end_time": "2019-12-12T11:07:37.867390Z",
     "start_time": "2019-12-12T11:07:37.864101Z"
    }
   },
   "outputs": [],
   "source": [
    "# location = 'results.csv'\n",
    "# result_array = np.asarray(results)\n",
    "# np.savetxt(\n",
    "#     location,\n",
    "#     result_array,\n",
    "#     delimiter=\",\",\n",
    "#     fmt=\"%s\",\n",
    "#     comments='',\n",
    "#     header=','.join(['machine_learning', 'HO_accuracy_score', 'HO_recall_score', 'HO_f1_score'])\n",
    "# )"
   ]
  },
  {
   "cell_type": "markdown",
   "metadata": {},
   "source": [
    "## Training models using Stratified KFold method\n",
    "Cross-validation or ‘k-fold cross-validation’ is when the dataset is randomly split up into ‘k’ groups. One of the groups is used as the test set and the rest are used as the training set. The model is trained on the training set and scored on the test set. Then the process is repeated until each unique group as been used as the test set."
   ]
  },
  {
   "cell_type": "code",
   "execution_count": 5,
   "metadata": {
    "ExecuteTime": {
     "end_time": "2019-12-12T11:10:19.501808Z",
     "start_time": "2019-12-12T11:07:39.024775Z"
    }
   },
   "outputs": [
    {
     "name": "stdout",
     "output_type": "stream",
     "text": [
      "learning Linear SVC...\n",
      "0.8670946288577871\n",
      "learning Multinomial Naive Bayes...\n",
      "0.7931126542363844\n",
      "learning Gaussian Naive Bayes...\n",
      "0.7944130961584478\n",
      "learning Random Forest...\n",
      "0.8510802076961757\n",
      "learning Decision Tree...\n",
      "0.8281959724352038\n",
      "learning SGD...\n",
      "0.8673119480930026\n",
      "learning KNeighbors...\n",
      "0.8617355271853104\n",
      "learning Logistic Regression...\n",
      "0.832839441555754\n"
     ]
    }
   ],
   "source": [
    "results_K = []\n",
    "y = np.array(df['CategoryID'].tolist())\n",
    "\n",
    "for transformerName, transform in transformers:\n",
    "    print('learning ' + transformerName + '...')\n",
    "    skf = StratifiedKFold(n_splits=10, random_state=random)\n",
    "    skf.get_n_splits(tfvector, categories)        \n",
    "    for train_index, test_index in skf.split(tfvector, categories):\n",
    "#         print(\"TRAIN:\", train_index, \"TEST:\", test_index)\n",
    "        X2_train, X2_test = tfvector[train_index], tfvector[test_index]\n",
    "        y2_train, y2_test = y[train_index], y[test_index]\n",
    "    try:          \n",
    "        if transformerName == 'Gaussian Naive Bayes':\n",
    "            model = transform.fit(X2_train.todense(), y2_train)\n",
    "            y2_pred = model.predict(X2_test.todense())\n",
    "            results_K.append(tuple([\n",
    "                transformerName,\n",
    "                accuracy_score(y2_pred, y2_test),\n",
    "                recall_score(y2_pred, y2_test, average='weighted'),\n",
    "                f1_score(y2_pred, y2_test, average='weighted')\n",
    "            ]))\n",
    "        else:\n",
    "            model = transform.fit(X2_train, y2_train)\n",
    "            y2_pred = model.predict(X2_test)\n",
    "            results_K.append(tuple([\n",
    "                transformerName,\n",
    "                accuracy_score(y2_pred, y2_test),\n",
    "                recall_score(y2_pred, y2_test, average='weighted'),\n",
    "                f1_score(y2_pred, y2_test, average='weighted')\n",
    "            ]))\n",
    "        print(f1_score(y2_pred, y2_test, average='weighted'))\n",
    "    except:\n",
    "        print('FAILED')\n",
    "        results_K.append(tuple([transformerName,0,0,0]))"
   ]
  },
  {
   "cell_type": "code",
   "execution_count": 6,
   "metadata": {
    "ExecuteTime": {
     "end_time": "2019-12-10T13:29:40.633766Z",
     "start_time": "2019-12-10T13:29:40.599198Z"
    }
   },
   "outputs": [],
   "source": []
  },
  {
   "cell_type": "code",
   "execution_count": 6,
   "metadata": {
    "ExecuteTime": {
     "end_time": "2019-12-12T11:10:28.604254Z",
     "start_time": "2019-12-12T11:10:28.599066Z"
    }
   },
   "outputs": [],
   "source": [
    "location = 'results.csv'\n",
    "result_array = np.asarray(results_HO+results_K)\n",
    "result_array\n",
    "np.savetxt(\n",
    "    location,\n",
    "    result_array,\n",
    "    delimiter=\",\",\n",
    "    fmt=\"%s\",\n",
    "    comments='',\n",
    "    header=','.join(['machine_learning', 'accuracy_score', 'recall_score', 'f1_score'])\n",
    ")"
   ]
  },
  {
   "cell_type": "markdown",
   "metadata": {},
   "source": [
    "# Plotting the results"
   ]
  },
  {
   "cell_type": "code",
   "execution_count": 20,
   "metadata": {
    "ExecuteTime": {
     "end_time": "2019-12-12T11:18:47.299036Z",
     "start_time": "2019-12-12T11:18:47.167224Z"
    }
   },
   "outputs": [
    {
     "data": {
      "image/png": "[encoded data removed]",
      "text/plain": [
       "<Figure size 432x288 with 1 Axes>"
      ]
     },
     "metadata": {
      "needs_background": "light"
     },
     "output_type": "display_data"
    },
    {
     "data": {
      "text/plain": [
       "<Figure size 432x288 with 0 Axes>"
      ]
     },
     "metadata": {},
     "output_type": "display_data"
    }
   ],
   "source": [
    "results = pd.read_csv(location)\n",
    "results_HO = results[:8]\n",
    "results_K = results[8:]\n",
    "\n",
    "plot1 = results_HO.pivot_table(\n",
    "    columns='machine_learning',\n",
    "    values=['f1_score','recall_score','accuracy_score']\n",
    ")\n",
    "\n",
    "ax = sns.heatmap(plot1, annot=True, cmap=\"Purples\", cbar=False)\n",
    "bottom, top = ax.get_ylim()\n",
    "ax.set_ylim(bottom + 0.5, top - 0.5)\n",
    "\n",
    "plt.title('Hold-out scores')\n",
    "plt.show()\n",
    "plt.savefig('Holdout_scores.png')"
   ]
  },
  {
   "cell_type": "code",
   "execution_count": 22,
   "metadata": {
    "ExecuteTime": {
     "end_time": "2019-12-12T11:20:13.226142Z",
     "start_time": "2019-12-12T11:20:13.101595Z"
    }
   },
   "outputs": [
    {
     "data": {
      "image/png": "[encoded data removed]",
      "text/plain": [
       "<Figure size 432x288 with 1 Axes>"
      ]
     },
     "metadata": {
      "needs_background": "light"
     },
     "output_type": "display_data"
    },
    {
     "data": {
      "text/plain": [
       "<Figure size 432x288 with 0 Axes>"
      ]
     },
     "metadata": {},
     "output_type": "display_data"
    }
   ],
   "source": [
    "plot2 = results_K.pivot_table(\n",
    "    columns='machine_learning',\n",
    "    values=['f1_score','recall_score','accuracy_score']\n",
    ")\n",
    "\n",
    "ax = sns.heatmap(plot2, annot=True, cmap=\"Purples\", cbar=False)\n",
    "bottom, top = ax.get_ylim()\n",
    "ax.set_ylim(bottom + 0.5, top - 0.5)\n",
    "\n",
    "plt.title('KFold scores')\n",
    "plt.show()\n",
    "plt.savefig('KFold_scores.png')"
   ]
  },
  {
   "cell_type": "code",
   "execution_count": 12,
   "metadata": {
    "ExecuteTime": {
     "end_time": "2019-12-12T11:14:24.801683Z",
     "start_time": "2019-12-12T11:14:24.770764Z"
    }
   },
   "outputs": [],
   "source": []
  },
  {
   "cell_type": "code",
   "execution_count": null,
   "metadata": {},
   "outputs": [],
   "source": []
  }
 ],
 "metadata": {
  "kernelspec": {
   "display_name": "Python 3",
   "language": "python",
   "name": "python3"
  },
  "language_info": {
   "codemirror_mode": {
    "name": "ipython",
    "version": 3
   },
   "file_extension": ".py",
   "mimetype": "text/x-python",
   "name": "python",
   "nbconvert_exporter": "python",
   "pygments_lexer": "ipython3",
   "version": "3.6.8"
  },
  "toc": {
   "base_numbering": 1,
   "nav_menu": {},
   "number_sections": true,
   "sideBar": true,
   "skip_h1_title": false,
   "title_cell": "Table of Contents",
   "title_sidebar": "Contents",
   "toc_cell": false,
   "toc_position": {},
   "toc_section_display": true,
   "toc_window_display": false
  }
 },
 "nbformat": 4,
 "nbformat_minor": 2
}
